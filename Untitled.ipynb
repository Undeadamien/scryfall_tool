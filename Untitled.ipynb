{
 "cells": [
  {
   "cell_type": "code",
   "execution_count": 1,
   "id": "790a1fa1-a400-42ee-b36a-ff588c4085de",
   "metadata": {},
   "outputs": [],
   "source": [
    "from pathlib import Path\n",
    "import matplotlib.pyplot as plt\n",
    "import pandas as pd"
   ]
  },
  {
   "cell_type": "code",
   "execution_count": 2,
   "id": "2ed65b4f-2c0e-4509-b1f1-4cea53072617",
   "metadata": {},
   "outputs": [],
   "source": [
    "datas=list(Path(\"data\").glob(\"*.json\"))\n",
    "with open(datas[0]) as file:\n",
    "    df_raw = pd.read_json(file)"
   ]
  },
  {
   "cell_type": "code",
   "execution_count": 3,
   "id": "95d1054d-523b-4610-8c4b-4c9d54c6948e",
   "metadata": {},
   "outputs": [],
   "source": [
    "df = df_raw"
   ]
  }
 ],
 "metadata": {
  "kernelspec": {
   "display_name": "Python 3 (ipykernel)",
   "language": "python",
   "name": "python3"
  },
  "language_info": {
   "codemirror_mode": {
    "name": "ipython",
    "version": 3
   },
   "file_extension": ".py",
   "mimetype": "text/x-python",
   "name": "python",
   "nbconvert_exporter": "python",
   "pygments_lexer": "ipython3",
   "version": "3.10.17"
  }
 },
 "nbformat": 4,
 "nbformat_minor": 5
}
